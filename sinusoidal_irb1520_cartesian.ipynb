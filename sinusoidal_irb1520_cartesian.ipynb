{
  "nbformat": 4,
  "nbformat_minor": 0,
  "metadata": {
    "colab": {
      "provenance": []
    },
    "kernelspec": {
      "name": "python3",
      "display_name": "Python 3"
    },
    "language_info": {
      "name": "python"
    }
  },
  "cells": [
    {
      "cell_type": "code",
      "execution_count": 13,
      "metadata": {
        "id": "HdOWCUyZsWOn"
      },
      "outputs": [],
      "source": [
        "import numpy as np\n",
        "\n",
        "n_samples = 6\n",
        "t = np.linspace(0, 2*np.pi, n_samples)\n",
        "\n",
        "# θ1 = 180 * np.sin(t + 0)                         # No shift\n",
        "# θ2 = 120 * np.sin(2*t + np.pi/6)                 # Phase shifted\n",
        "# θ3 = 127.5 * np.sin(1.5*t + np.pi/3) - 52.5      # Shift + offset\n",
        "# θ4 = 400 * np.sin(2.5*t + np.pi/2)\n",
        "# θ5 = 122.5 * np.sin(t + np.pi/4) - 2.5\n",
        "# θ6 = 400 * np.sin(3*t + np.pi/5)\n",
        "\n",
        "θ1 = 170 * np.sin(t)\n",
        "θ2 = 80 * np.sin(2*t + np.pi/6)\n",
        "θ3 = 120 * np.sin(1.5*t + np.pi/3) - 52.5\n",
        "θ4 = 200 * np.sin(2.5*t + np.pi/2)\n",
        "θ5 = 120 * np.sin(t + np.pi / 4) - 2.5\n",
        "θ6 = 400 * np.sin(3*t + np.pi/5)\n"
      ]
    },
    {
      "cell_type": "code",
      "source": [
        "print(θ1)"
      ],
      "metadata": {
        "colab": {
          "base_uri": "https://localhost:8080/"
        },
        "id": "B9f0ZpUmudJj",
        "outputId": "2cafff7a-1b88-4150-905c-fa2a517efd1c"
      },
      "execution_count": 14,
      "outputs": [
        {
          "output_type": "stream",
          "name": "stdout",
          "text": [
            "[ 0.00000000e+00  1.61679608e+02  9.99234929e+01 -9.99234929e+01\n",
            " -1.61679608e+02 -4.16379912e-14]\n"
          ]
        }
      ]
    },
    {
      "cell_type": "code",
      "source": [
        "print(θ6)"
      ],
      "metadata": {
        "colab": {
          "base_uri": "https://localhost:8080/"
        },
        "id": "lJKVMtkku2B_",
        "outputId": "88e619c8-1a80-4554-ab4f-8b5713a39c49"
      },
      "execution_count": 15,
      "outputs": [
        {
          "output_type": "stream",
          "name": "stdout",
          "text": [
            "[ 2.35114101e+02 -3.80422607e+02  3.80422607e+02 -2.35114101e+02\n",
            "  2.44929360e-13  2.35114101e+02]\n"
          ]
        }
      ]
    },
    {
      "cell_type": "code",
      "source": [
        "import itertools\n",
        "cartesian_product = list(itertools.product(θ1, θ2, θ3, θ4, θ5, θ6))\n",
        "\n",
        "# Convert to numpy array (optional, for convenience)\n",
        "dataset = np.array(cartesian_product)\n",
        "\n",
        "print(\"Shape of dataset:\", dataset.shape)"
      ],
      "metadata": {
        "colab": {
          "base_uri": "https://localhost:8080/"
        },
        "id": "AMsJ29AMuYg5",
        "outputId": "e523e252-e70e-4cd9-a4f3-30392901bac7"
      },
      "execution_count": 16,
      "outputs": [
        {
          "output_type": "stream",
          "name": "stdout",
          "text": [
            "Shape of dataset: (46656, 6)\n"
          ]
        }
      ]
    },
    {
      "cell_type": "code",
      "source": [
        "angles=dataset[1]\n",
        "print(angles)"
      ],
      "metadata": {
        "colab": {
          "base_uri": "https://localhost:8080/"
        },
        "id": "TAozWsI1viAX",
        "outputId": "6a3cf563-a89d-482e-dbc0-ffae288efd4f"
      },
      "execution_count": 12,
      "outputs": [
        {
          "output_type": "stream",
          "name": "stdout",
          "text": [
            "[   0.           40.           51.42304845  200.           82.35281374\n",
            " -380.42260652]\n"
          ]
        }
      ]
    },
    {
      "cell_type": "code",
      "source": [
        "print(dataset.shape[0])"
      ],
      "metadata": {
        "colab": {
          "base_uri": "https://localhost:8080/"
        },
        "id": "aYuG5GiHupS0",
        "outputId": "af14b858-914d-4288-f03a-035c79bbdc02"
      },
      "execution_count": 17,
      "outputs": [
        {
          "output_type": "stream",
          "name": "stdout",
          "text": [
            "46656\n"
          ]
        }
      ]
    },
    {
      "cell_type": "code",
      "source": [
        "# gpt DF parameters\n",
        "\n",
        "def dh_matrix(theta, d, a, alpha):\n",
        "    ct, st = np.cos(theta), np.sin(theta)\n",
        "    ca, sa = np.cos(alpha), np.sin(alpha)\n",
        "    return np.array([\n",
        "        [ct, -st*ca, st*sa, a*ct],\n",
        "        [st, ct*ca, -ct*sa, a*st],\n",
        "        [0, sa, ca, d],\n",
        "        [0, 0, 0, 1]\n",
        "    ])\n",
        "\n",
        "# forward kinemarics\n",
        "def fk_irb4600(joint_angles_deg):\n",
        "    theta = np.radians(joint_angles_deg)\n",
        "\n",
        "    # DH parameters\n",
        "    dh_params = [\n",
        "        [theta[0], 0, 160, np.pi/2],\n",
        "        [theta[1], 0, 590, 0],\n",
        "        [theta[2], 0, 200, np.pi/2],\n",
        "        [theta[3], 723, 0, np.pi/2],\n",
        "        [theta[4], 0, 0, -np.pi/2],\n",
        "        [theta[5], 200, 0, 0]\n",
        "    ]\n",
        "\n",
        "    T = np.eye(4)\n",
        "    for p in dh_params:\n",
        "        T = T @ dh_matrix(*p)\n",
        "    # print(T)\n",
        "    position = T[:3, 3]\n",
        "    rotation = T[:3, :3]\n",
        "\n",
        "    return position, rotation\n",
        "\n",
        "# cconverting rotation matrix to eular''s angels(orientation)\n",
        "from scipy.spatial.transform import Rotation as R\n",
        "def rotation_matrix_to_euler(R_mat):\n",
        "    r = R.from_matrix(R_mat)\n",
        "    euler_angles = r.as_euler('xyz', degrees=True)  # or 'zyx' depending on convention\n",
        "    return euler_angles  # returns rx, ry, rz\n",
        "\n",
        "\n",
        "# Example usage\n",
        "# dataset=[]\n",
        "# for i in range (0,len(θ1)):\n",
        "#   angles=[θ1[i],θ2[i],θ3[i],θ4[i],θ5[i],θ6[i]]\n",
        "#   pos, rot = fk_irb4600(angles)\n",
        "#   euler_angles = rotation_matrix_to_euler(rot)\n",
        "#   res = np.concatenate((pos, euler_angles,angles))\n",
        "#   # print(res)\n",
        "#   dataset.append(res)\n",
        "detset=[]\n",
        "for i in range (0,dataset.shape[0]):\n",
        "  angles=dataset[i]\n",
        "  pos, rot = fk_irb4600(angles)\n",
        "  euler_angles = rotation_matrix_to_euler(rot)\n",
        "  res = np.concatenate((pos, euler_angles,angles))\n",
        "  # print(res)\n",
        "  detset.append(res)\n",
        "\n",
        "print(detset[0])\n"
      ],
      "metadata": {
        "colab": {
          "base_uri": "https://localhost:8080/"
        },
        "id": "oPNHnD1usaYR",
        "outputId": "f8af370c-367a-4762-8c80-0951ec5255d2"
      },
      "execution_count": 19,
      "outputs": [
        {
          "output_type": "stream",
          "name": "stdout",
          "text": [
            "[1351.75687652  -67.79566264  784.00878248  -16.56434327   12.88821111\n",
            " -125.16985813    0.           40.           51.42304845  200.\n",
            "   82.35281374  235.11410092]\n"
          ]
        }
      ]
    },
    {
      "cell_type": "code",
      "source": [
        "import pandas as pd\n",
        "\n",
        "columns = ['x', 'y', 'z', 'roll(rx)', 'pitch(ry)', 'yaw(rz)',\n",
        "           'j1', 'j2', 'j3', 'j4', 'j5', 'j6']\n",
        "\n",
        "df = pd.DataFrame(detset, columns=columns)\n",
        "df.to_csv('IK_sinusoidal_dataset_irb1520D_new.csv', index=False)"
      ],
      "metadata": {
        "id": "3Ge64dELsfEV"
      },
      "execution_count": 21,
      "outputs": []
    },
    {
      "cell_type": "code",
      "source": [],
      "metadata": {
        "id": "Gpa0_sOHw1fO"
      },
      "execution_count": null,
      "outputs": []
    }
  ]
}